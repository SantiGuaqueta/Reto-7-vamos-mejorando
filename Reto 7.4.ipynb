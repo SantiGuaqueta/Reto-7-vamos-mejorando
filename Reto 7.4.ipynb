{
 "cells": [
  {
   "cell_type": "code",
   "execution_count": null,
   "metadata": {},
   "outputs": [],
   "source": [
    "# Ejercicio 4\n",
    "PaisA = float (25.0)\n",
    "PaisB = float (18.9)\n",
    "TasaA = float (1.2)\n",
    "TasaB = float (1.3)\n",
    "Año = int (2022)\n",
    "# Declaramos nuestras variables \n",
    "while (PaisA >= PaisB):#Colocamos la condicion\n",
    "    Año = Año + 1\n",
    "    PaisA = PaisA * TasaA\n",
    "    PaisB = PaisB * TasaB\n",
    "\n",
    "print (\"En el año \", Año, \"El Paia B tendra \", PaisB, \"y el Pais A tendra \", PaisA)# Cuando la condicion se deje de cumplir se imprimira esto."
   ]
  }
 ],
 "metadata": {
  "kernelspec": {
   "display_name": "Python 3",
   "language": "python",
   "name": "python3"
  },
  "language_info": {
   "name": "python",
   "version": "3.11.1"
  },
  "orig_nbformat": 4
 },
 "nbformat": 4,
 "nbformat_minor": 2
}
