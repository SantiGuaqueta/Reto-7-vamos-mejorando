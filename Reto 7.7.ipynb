{
 "cells": [
  {
   "cell_type": "code",
   "execution_count": 10,
   "metadata": {},
   "outputs": [
    {
     "name": "stdout",
     "output_type": "stream",
     "text": [
      "Divisor de  10 =   1\n",
      "Divisor de  10 =   2\n",
      "Divisor de  10 =   5\n",
      "Divisor de  10 =   10\n"
     ]
    }
   ],
   "source": [
    "# Ejercicio 7\n",
    "x = int(input(\"Ingrese un numero entre 2 y 50= \"))\n",
    "#Colocamos nuestra primera variable x que realiza la funcion de preguntarle al lector un numero entre un rango de 2 a 50\n",
    "while (x > 50 or x < 2):\n",
    "    print(\"Número no válido\") \n",
    "    x = int(input(\"Ingrese un numero entre 2 y 50= \"))\n",
    "# Colocamos  uestra primera condicion que funciona para analizar si el numero ingresado es valido o no\n",
    "y= int (1) # Definimos a y=1 que usaremos mas adelante\n",
    "\n",
    "while (y <= x):\n",
    "    if (x%y==0):\n",
    "        print(\"Divisor de \", x ,\"=  \", y)\n",
    "        y = y + 1\n",
    "    else:\n",
    "        y = y + 1\n",
    "# Colocamos segunda condicion, que si se cummple se puede realizar lo siguiente en este caso el if, el else se coloca debido a que si el if no se cumple la variable y nunca va a aumentar y se va a quedar estancado el valor y"
   ]
  }
 ],
 "metadata": {
  "kernelspec": {
   "display_name": "Python 3",
   "language": "python",
   "name": "python3"
  },
  "language_info": {
   "codemirror_mode": {
    "name": "ipython",
    "version": 3
   },
   "file_extension": ".py",
   "mimetype": "text/x-python",
   "name": "python",
   "nbconvert_exporter": "python",
   "pygments_lexer": "ipython3",
   "version": "3.11.1"
  },
  "orig_nbformat": 4
 },
 "nbformat": 4,
 "nbformat_minor": 2
}
