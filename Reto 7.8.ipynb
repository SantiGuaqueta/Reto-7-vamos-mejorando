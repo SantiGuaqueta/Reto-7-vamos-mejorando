{
 "cells": [
  {
   "cell_type": "code",
   "execution_count": 1,
   "metadata": {},
   "outputs": [
    {
     "name": "stdout",
     "output_type": "stream",
     "text": [
      "los numero primos del 0 al 100 son:  (2, 3, 5, 7, 11, 13, 17, 19, 23, 29, 31, 37, 41, 43, 47, 53, 59, 61, 67, 71, 73, 79, 83, 89, 97)\n"
     ]
    }
   ],
   "source": [
    "# Ejercicio 8\n",
    "def numero_primo ():\n",
    "    numero = 2, 3, 5, 7, 11, 13, 17, 19, 23, 29, 31, 37, 41, 43, 47, 53, 59, 61, 67, 71, 73, 79, 83, 89, 97\n",
    "    return(numero)\n",
    "# Colocamos dentro de la funcion numero_primos una variable llamada numeros que contiene una lista de numeros primos de 0 a 100 y al final pida de que me devuelvaesta variable \n",
    "if __name__ == \"__main__\":\n",
    "    numero=numero_primo()\n",
    "    print(\"los numero primos del 0 al 100 son: \",numero)\n",
    "# Al final pedimos que imprima la variables numeros que ya contiene los numeros primos del 0 al 10"
   ]
  }
 ],
 "metadata": {
  "kernelspec": {
   "display_name": "Python 3",
   "language": "python",
   "name": "python3"
  },
  "language_info": {
   "codemirror_mode": {
    "name": "ipython",
    "version": 3
   },
   "file_extension": ".py",
   "mimetype": "text/x-python",
   "name": "python",
   "nbconvert_exporter": "python",
   "pygments_lexer": "ipython3",
   "version": "3.11.1"
  },
  "orig_nbformat": 4
 },
 "nbformat": 4,
 "nbformat_minor": 2
}
