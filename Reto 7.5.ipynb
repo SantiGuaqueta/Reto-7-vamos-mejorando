{
 "cells": [
  {
   "cell_type": "code",
   "execution_count": null,
   "metadata": {},
   "outputs": [],
   "source": [
    "# Ejercicio 5\n",
    "i = int (input(\"Ingrese el número = \"))\n",
    "k = i\n",
    "# variables\n",
    "\n",
    "while (i > 1):#  Condicion \n",
    "    k = k * (i-1)\n",
    "    i = i -1\n",
    "\n",
    "print(\"Factorial de n = \", k)# Cuando la condicion se deje de cumplir se imprimira esto."
   ]
  }
 ],
 "metadata": {
  "kernelspec": {
   "display_name": "Python 3",
   "language": "python",
   "name": "python3"
  },
  "language_info": {
   "name": "python",
   "version": "3.11.1"
  },
  "orig_nbformat": 4
 },
 "nbformat": 4,
 "nbformat_minor": 2
}
