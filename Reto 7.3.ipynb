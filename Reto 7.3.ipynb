{
 "cells": [
  {
   "cell_type": "code",
   "execution_count": null,
   "metadata": {},
   "outputs": [],
   "source": [
    "# Ejercicio 3\n",
    "i = int(input(\"Ingrese un número mayor a 2 =\"))\n",
    "# Declaramos variable i\n",
    "if i%2 == 0: \n",
    "    while (i>=2):#condicion\n",
    "        i = i-2\n",
    "        print (i)\n",
    "else:\n",
    "    i = i - 1\n",
    "    while (i >= 2):#condicion\n",
    "        print (i)\n",
    "        i = i -2"
   ]
  }
 ],
 "metadata": {
  "kernelspec": {
   "display_name": "Python 3",
   "language": "python",
   "name": "python3"
  },
  "language_info": {
   "name": "python",
   "version": "3.11.1"
  },
  "orig_nbformat": 4
 },
 "nbformat": 4,
 "nbformat_minor": 2
}
