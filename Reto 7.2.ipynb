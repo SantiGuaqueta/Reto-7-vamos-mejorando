{
 "cells": [
  {
   "cell_type": "code",
   "execution_count": null,
   "metadata": {},
   "outputs": [],
   "source": [
    "# Ejercicio 2\n",
    "i = 1\n",
    "k = 2\n",
    "j = 1000\n",
    "# Declaramos variables\n",
    "while (k <= j):# Condicion\n",
    "    print(\"Impar= \",i,\" Par= \",k)\n",
    "    i = i + 2\n",
    "    k = k + 2"
   ]
  }
 ],
 "metadata": {
  "kernelspec": {
   "display_name": "Python 3",
   "language": "python",
   "name": "python3"
  },
  "language_info": {
   "name": "python",
   "version": "3.11.1"
  },
  "orig_nbformat": 4
 },
 "nbformat": 4,
 "nbformat_minor": 2
}
