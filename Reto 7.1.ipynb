{
 "cells": [
  {
   "cell_type": "code",
   "execution_count": null,
   "metadata": {},
   "outputs": [],
   "source": [
    "# Ejercicio 1\n",
    "i = 1 \n",
    "k = int\n",
    "j = 100  \n",
    "# Declaramos variables\n",
    "while (i <= j): # Condicion\n",
    "    k = i**2\n",
    "    print(\"Numero= \",i,\" Cudrado= \",k)\n",
    "    i = i + 1"
   ]
  }
 ],
 "metadata": {
  "kernelspec": {
   "display_name": "Python 3",
   "language": "python",
   "name": "python3"
  },
  "language_info": {
   "name": "python",
   "version": "3.11.1"
  },
  "orig_nbformat": 4
 },
 "nbformat": 4,
 "nbformat_minor": 2
}
