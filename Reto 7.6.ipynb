{
 "cells": [
  {
   "cell_type": "code",
   "execution_count": null,
   "metadata": {},
   "outputs": [],
   "source": [
    "# Ejercicio 6\n",
    "numero_secreto = int(input(\"Ingrese el número Secreto entre 0 a 100: \"))\n",
    "# Colocamos variables.\n",
    "while (numero_secreto > 100 or numero_secreto< 0): #Condicion.\n",
    "    print(\"Número no válido\") # Lo que se imprimira si no se cumple la condicion.\n",
    "    numero_secreto = int(input(\"Ingrese un numero entre 0 y 100= \")) # Si no se cumple la condicion se pedira un nuevo numero.\n",
    "\n",
    "\n",
    "min = 0 # Declaramos el valor minimo.\n",
    "max = 100 # Declaramos el valor maximo\n",
    "n = int(max/2) # Declaramos a n como un entero que realiza una operacion n  nos servira para mas adelante\n",
    "\n",
    "print(\"el numero secreto es\", n, \"?\") # Se pregunta si el numero es n \n",
    "d= str(input(\"Es menor, igual o mayor: \"))# En relacion con la pregunta anterior le pedimos al lector que nos diga si es menor mayor o igual\n",
    "\n",
    "while d != \"igual\" :\n",
    "    if d == \"mayor\" :\n",
    "        min = n\n",
    "        n = int((max+min)/2)\n",
    "        print(\"El numero secreto es \", n , \" ? \")\n",
    "        d = input(\"Es menor, igual o mayor: \")\n",
    "        continue\n",
    "    elif d == \"menor\" :\n",
    "        max = n\n",
    "        n = int((max+min)/2)\n",
    "        print(\"El numero secreto es \", n , \" ? \")\n",
    "        d = input(\"Es menor, igual o mayor: \")\n",
    "        continue\n",
    "#Condicional 2 que se coloca por si en la pregunta la respuesta del lecotr es diferente a igual, para cada caso diferente a este se realisa la misma operacion lo unico que cambia es definir a n como max o min\n",
    "print(\"Lo logre el numero el numero secreto es : \", n ) # Se imprime esto solo cuando la respuesta ya sea igual\n"
   ]
  }
 ],
 "metadata": {
  "kernelspec": {
   "display_name": "Python 3",
   "language": "python",
   "name": "python3"
  },
  "language_info": {
   "name": "python",
   "version": "3.11.1"
  },
  "orig_nbformat": 4
 },
 "nbformat": 4,
 "nbformat_minor": 2
}
